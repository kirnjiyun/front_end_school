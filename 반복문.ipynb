{
  "nbformat": 4,
  "nbformat_minor": 0,
  "metadata": {
    "colab": {
      "provenance": [],
      "authorship_tag": "ABX9TyPoUFsc4tztV2Qv02g+mExQ"
    },
    "kernelspec": {
      "name": "python3",
      "display_name": "Python 3"
    },
    "language_info": {
      "name": "python"
    }
  },
  "cells": [
    {
      "cell_type": "code",
      "execution_count": 6,
      "metadata": {
        "colab": {
          "base_uri": "https://localhost:8080/"
        },
        "id": "PPFFNe8AMxf4",
        "outputId": "2050eca5-d73e-4dcd-b756-03781710028c"
      },
      "outputs": [
        {
          "output_type": "stream",
          "name": "stdout",
          "text": [
            "10\n",
            "20\n",
            "30\n"
          ]
        }
      ],
      "source": [
        "for i in [10,20,30]:\n",
        "  print(i)"
      ]
    },
    {
      "cell_type": "code",
      "source": [
        "for i in (10,20,30):\n",
        "  print(i)"
      ],
      "metadata": {
        "colab": {
          "base_uri": "https://localhost:8080/"
        },
        "id": "VR-5aa31NLEk",
        "outputId": "dbd86f4f-31c5-4e80-947c-c090ec845a83"
      },
      "execution_count": 7,
      "outputs": [
        {
          "output_type": "stream",
          "name": "stdout",
          "text": [
            "10\n",
            "20\n",
            "30\n"
          ]
        }
      ]
    },
    {
      "cell_type": "code",
      "source": [
        "for i in {10,20,30}:\n",
        "  print(i)"
      ],
      "metadata": {
        "colab": {
          "base_uri": "https://localhost:8080/"
        },
        "id": "-3NBkHrtNO-6",
        "outputId": "6b808fa0-560e-4143-dd78-8be9fa091246"
      },
      "execution_count": 8,
      "outputs": [
        {
          "output_type": "stream",
          "name": "stdout",
          "text": [
            "10\n",
            "20\n",
            "30\n"
          ]
        }
      ]
    },
    {
      "cell_type": "code",
      "source": [
        "for i in {'one':1,'two':2}:\n",
        "  print(i)"
      ],
      "metadata": {
        "colab": {
          "base_uri": "https://localhost:8080/"
        },
        "id": "orvx1g3vNTTc",
        "outputId": "bbc6dd7d-2c5b-4716-99c3-d39caa14c2d3"
      },
      "execution_count": 9,
      "outputs": [
        {
          "output_type": "stream",
          "name": "stdout",
          "text": [
            "one\n",
            "two\n"
          ]
        }
      ]
    },
    {
      "cell_type": "code",
      "source": [
        "for i in range(10):\n",
        "  print(i)\n",
        "print('hello')"
      ],
      "metadata": {
        "colab": {
          "base_uri": "https://localhost:8080/"
        },
        "id": "MmhzyIl8Nb_c",
        "outputId": "ffe8cf5a-9c93-4564-b813-e685779cc7ec"
      },
      "execution_count": 12,
      "outputs": [
        {
          "output_type": "stream",
          "name": "stdout",
          "text": [
            "0\n",
            "1\n",
            "2\n",
            "3\n",
            "4\n",
            "5\n",
            "6\n",
            "7\n",
            "8\n",
            "9\n",
            "hello\n"
          ]
        }
      ]
    },
    {
      "cell_type": "code",
      "source": [
        "for i in[(1,2),(10,20),(30,40)]:\n",
        "  print(i)\n",
        "\n",
        "for i,j in [(1,2),(10,20),(30,40)]:\n",
        "  print(i,j)"
      ],
      "metadata": {
        "colab": {
          "base_uri": "https://localhost:8080/"
        },
        "id": "y9FoUZNeP58w",
        "outputId": "25457aa0-8953-4878-8bd9-d383201a81e9"
      },
      "execution_count": 15,
      "outputs": [
        {
          "output_type": "stream",
          "name": "stdout",
          "text": [
            "(1, 2)\n",
            "(10, 20)\n",
            "(30, 40)\n",
            "1 2\n",
            "10 20\n",
            "30 40\n"
          ]
        }
      ]
    },
    {
      "cell_type": "code",
      "source": [
        "s=0\n",
        "for i in range(1,101):\n",
        "  s+=i\n",
        "s"
      ],
      "metadata": {
        "colab": {
          "base_uri": "https://localhost:8080/"
        },
        "id": "fG3caIkaSipb",
        "outputId": "1d72eec3-08df-434d-b8d0-6032c4011d48"
      },
      "execution_count": 17,
      "outputs": [
        {
          "output_type": "execute_result",
          "data": {
            "text/plain": [
              "5050"
            ]
          },
          "metadata": {},
          "execution_count": 17
        }
      ]
    },
    {
      "cell_type": "code",
      "source": [
        "s=0\n",
        "for i in range(0,101,2):\n",
        "  s+=i\n",
        "s"
      ],
      "metadata": {
        "colab": {
          "base_uri": "https://localhost:8080/"
        },
        "id": "Iq1vEXIQSslv",
        "outputId": "6986b2af-65e6-4873-fced-c141a798bbac"
      },
      "execution_count": 18,
      "outputs": [
        {
          "output_type": "execute_result",
          "data": {
            "text/plain": [
              "2550"
            ]
          },
          "metadata": {},
          "execution_count": 18
        }
      ]
    },
    {
      "cell_type": "code",
      "source": [
        "s=0\n",
        "for i in range(1,101,2):\n",
        "  s+=i\n",
        "s"
      ],
      "metadata": {
        "colab": {
          "base_uri": "https://localhost:8080/"
        },
        "id": "BLS89Av_SzOr",
        "outputId": "d65ae649-c808-4a6a-a6de-673466d844a4"
      },
      "execution_count": 19,
      "outputs": [
        {
          "output_type": "execute_result",
          "data": {
            "text/plain": [
              "2500"
            ]
          },
          "metadata": {},
          "execution_count": 19
        }
      ]
    },
    {
      "cell_type": "code",
      "source": [
        "list(range(2,10,3))\n",
        "\n",
        "for i in range(2,10,3):\n",
        "  print(i)\n"
      ],
      "metadata": {
        "colab": {
          "base_uri": "https://localhost:8080/"
        },
        "id": "8mBNo84mS3HK",
        "outputId": "92202f19-938d-42e1-f704-0b58748f50d5"
      },
      "execution_count": 31,
      "outputs": [
        {
          "output_type": "stream",
          "name": "stdout",
          "text": [
            "2\n",
            "5\n",
            "8\n"
          ]
        }
      ]
    },
    {
      "cell_type": "code",
      "source": [
        "for i in range(1,11):\n",
        "  if i% 2 ==0:\n",
        "    print(i)"
      ],
      "metadata": {
        "colab": {
          "base_uri": "https://localhost:8080/"
        },
        "id": "dC1h59KVTVhX",
        "outputId": "d2a4e76c-ecae-4c67-e0cf-fea5e3909919"
      },
      "execution_count": 34,
      "outputs": [
        {
          "output_type": "stream",
          "name": "stdout",
          "text": [
            "2\n",
            "4\n",
            "6\n",
            "8\n",
            "10\n"
          ]
        }
      ]
    },
    {
      "cell_type": "code",
      "source": [
        "for i in range(1,11):\n",
        "  if i %3==0 or i %5:\n",
        "    print(i)"
      ],
      "metadata": {
        "colab": {
          "base_uri": "https://localhost:8080/"
        },
        "id": "uEAPsWWVTgsg",
        "outputId": "32af81fe-a558-4374-eab3-d0407c0d932c"
      },
      "execution_count": 35,
      "outputs": [
        {
          "output_type": "stream",
          "name": "stdout",
          "text": [
            "1\n",
            "2\n",
            "3\n",
            "4\n",
            "6\n",
            "7\n",
            "8\n",
            "9\n"
          ]
        }
      ]
    },
    {
      "cell_type": "code",
      "source": [
        "for i in range(1,10):\n",
        "  print(f'{2}X{i}={2*i}')"
      ],
      "metadata": {
        "colab": {
          "base_uri": "https://localhost:8080/"
        },
        "id": "XNrb6C_TTnUv",
        "outputId": "d424a473-5529-4f38-f787-6cc169f23bcd"
      },
      "execution_count": 38,
      "outputs": [
        {
          "output_type": "stream",
          "name": "stdout",
          "text": [
            "2X1=2\n",
            "2X2=4\n",
            "2X3=6\n",
            "2X4=8\n",
            "2X5=10\n",
            "2X6=12\n",
            "2X7=14\n",
            "2X8=16\n",
            "2X9=18\n"
          ]
        }
      ]
    },
    {
      "cell_type": "code",
      "source": [
        "for i in range(1,10):\n",
        "  print(f'{3}X{i}={3*i}')"
      ],
      "metadata": {
        "colab": {
          "base_uri": "https://localhost:8080/"
        },
        "id": "F1q0LaObUS8e",
        "outputId": "24369aa0-42dc-4a2b-c67b-95d5ea2966d9"
      },
      "execution_count": 39,
      "outputs": [
        {
          "output_type": "stream",
          "name": "stdout",
          "text": [
            "3X1=3\n",
            "3X2=6\n",
            "3X3=9\n",
            "3X4=12\n",
            "3X5=15\n",
            "3X6=18\n",
            "3X7=21\n",
            "3X8=24\n",
            "3X9=27\n"
          ]
        }
      ]
    },
    {
      "cell_type": "code",
      "source": [
        "for i in range(1,10):\n",
        "  for j in range(2,10):\n",
        "    print(f'{j}X{i}={j*i}')"
      ],
      "metadata": {
        "colab": {
          "base_uri": "https://localhost:8080/"
        },
        "id": "7gCRkXHmUZoN",
        "outputId": "1a3c0db9-ca44-4c12-dd36-354e8e122c8d"
      },
      "execution_count": 40,
      "outputs": [
        {
          "output_type": "stream",
          "name": "stdout",
          "text": [
            "2X1=2\n",
            "3X1=3\n",
            "4X1=4\n",
            "5X1=5\n",
            "6X1=6\n",
            "7X1=7\n",
            "8X1=8\n",
            "9X1=9\n",
            "2X2=4\n",
            "3X2=6\n",
            "4X2=8\n",
            "5X2=10\n",
            "6X2=12\n",
            "7X2=14\n",
            "8X2=16\n",
            "9X2=18\n",
            "2X3=6\n",
            "3X3=9\n",
            "4X3=12\n",
            "5X3=15\n",
            "6X3=18\n",
            "7X3=21\n",
            "8X3=24\n",
            "9X3=27\n",
            "2X4=8\n",
            "3X4=12\n",
            "4X4=16\n",
            "5X4=20\n",
            "6X4=24\n",
            "7X4=28\n",
            "8X4=32\n",
            "9X4=36\n",
            "2X5=10\n",
            "3X5=15\n",
            "4X5=20\n",
            "5X5=25\n",
            "6X5=30\n",
            "7X5=35\n",
            "8X5=40\n",
            "9X5=45\n",
            "2X6=12\n",
            "3X6=18\n",
            "4X6=24\n",
            "5X6=30\n",
            "6X6=36\n",
            "7X6=42\n",
            "8X6=48\n",
            "9X6=54\n",
            "2X7=14\n",
            "3X7=21\n",
            "4X7=28\n",
            "5X7=35\n",
            "6X7=42\n",
            "7X7=49\n",
            "8X7=56\n",
            "9X7=63\n",
            "2X8=16\n",
            "3X8=24\n",
            "4X8=32\n",
            "5X8=40\n",
            "6X8=48\n",
            "7X8=56\n",
            "8X8=64\n",
            "9X8=72\n",
            "2X9=18\n",
            "3X9=27\n",
            "4X9=36\n",
            "5X9=45\n",
            "6X9=54\n",
            "7X9=63\n",
            "8X9=72\n",
            "9X9=81\n"
          ]
        }
      ]
    },
    {
      "cell_type": "code",
      "source": [
        "for i in range(2,10):\n",
        "  for j in range(1,10):\n",
        "    print(f'{i}X{j}={i*j}')\n",
        "    if j==5:\n",
        "      break\n",
        "  if i ==7:\n",
        "    break"
      ],
      "metadata": {
        "colab": {
          "base_uri": "https://localhost:8080/"
        },
        "id": "P_amq1RjU7r5",
        "outputId": "edf5900b-ee7d-4739-f24c-229db80d6aed"
      },
      "execution_count": 41,
      "outputs": [
        {
          "output_type": "stream",
          "name": "stdout",
          "text": [
            "2X1=2\n",
            "2X2=4\n",
            "2X3=6\n",
            "2X4=8\n",
            "2X5=10\n",
            "3X1=3\n",
            "3X2=6\n",
            "3X3=9\n",
            "3X4=12\n",
            "3X5=15\n",
            "4X1=4\n",
            "4X2=8\n",
            "4X3=12\n",
            "4X4=16\n",
            "4X5=20\n",
            "5X1=5\n",
            "5X2=10\n",
            "5X3=15\n",
            "5X4=20\n",
            "5X5=25\n",
            "6X1=6\n",
            "6X2=12\n",
            "6X3=18\n",
            "6X4=24\n",
            "6X5=30\n",
            "7X1=7\n",
            "7X2=14\n",
            "7X3=21\n",
            "7X4=28\n",
            "7X5=35\n"
          ]
        }
      ]
    },
    {
      "cell_type": "code",
      "source": [
        "for i in range(2,5):\n",
        "  for j in range(1,5):\n",
        "    print(f'{i}X{j}={i*j}')\n",
        "    if j>3:\n",
        "      continue\n",
        "    print('--------')"
      ],
      "metadata": {
        "colab": {
          "base_uri": "https://localhost:8080/"
        },
        "id": "sBBcIBCTVUUg",
        "outputId": "42fdeb8d-e302-4f0f-9df6-2620871e092c"
      },
      "execution_count": 44,
      "outputs": [
        {
          "output_type": "stream",
          "name": "stdout",
          "text": [
            "2X1=2\n",
            "--------\n",
            "2X2=4\n",
            "--------\n",
            "2X3=6\n",
            "--------\n",
            "2X4=8\n",
            "3X1=3\n",
            "--------\n",
            "3X2=6\n",
            "--------\n",
            "3X3=9\n",
            "--------\n",
            "3X4=12\n",
            "4X1=4\n",
            "--------\n",
            "4X2=8\n",
            "--------\n",
            "4X3=12\n",
            "--------\n",
            "4X4=16\n"
          ]
        }
      ]
    },
    {
      "cell_type": "code",
      "source": [
        "for i in range(2,5):\n",
        "  for j in range(1,5):\n",
        "    print(f'{i}X{j}={i*j}')\n",
        "    if j>3:\n",
        "      pass\n",
        "    print('--------')"
      ],
      "metadata": {
        "colab": {
          "base_uri": "https://localhost:8080/"
        },
        "id": "ZSAxcLu_WFs4",
        "outputId": "07fad7d8-16db-45c4-e47c-8d567e5078ed"
      },
      "execution_count": 45,
      "outputs": [
        {
          "output_type": "stream",
          "name": "stdout",
          "text": [
            "2X1=2\n",
            "--------\n",
            "2X2=4\n",
            "--------\n",
            "2X3=6\n",
            "--------\n",
            "2X4=8\n",
            "--------\n",
            "3X1=3\n",
            "--------\n",
            "3X2=6\n",
            "--------\n",
            "3X3=9\n",
            "--------\n",
            "3X4=12\n",
            "--------\n",
            "4X1=4\n",
            "--------\n",
            "4X2=8\n",
            "--------\n",
            "4X3=12\n",
            "--------\n",
            "4X4=16\n",
            "--------\n"
          ]
        }
      ]
    },
    {
      "cell_type": "code",
      "source": [
        "#l = [i for i in range(10)]\n",
        "#l=[]\n",
        "#for i in range(10):\n",
        "#   l.append(i)\n",
        "\n",
        "l=[i for i in range(10)]\n",
        "l"
      ],
      "metadata": {
        "colab": {
          "base_uri": "https://localhost:8080/"
        },
        "id": "4lE51qbpWMIs",
        "outputId": "6b0c86e5-1f2f-45c8-bda6-299e5e658fa5"
      },
      "execution_count": 48,
      "outputs": [
        {
          "output_type": "execute_result",
          "data": {
            "text/plain": [
              "[0, 1, 2, 3, 4, 5, 6, 7, 8, 9]"
            ]
          },
          "metadata": {},
          "execution_count": 48
        }
      ]
    },
    {
      "cell_type": "code",
      "source": [
        "l=[f'{i}X{j}={i*j}'for i in range(2,10) for j in range(1,10)]\n",
        "l"
      ],
      "metadata": {
        "colab": {
          "base_uri": "https://localhost:8080/"
        },
        "id": "yAjNhCkuWrAG",
        "outputId": "4c088e2a-679d-4730-d2a8-9283b0f62654"
      },
      "execution_count": 54,
      "outputs": [
        {
          "output_type": "execute_result",
          "data": {
            "text/plain": [
              "['2X1=2',\n",
              " '2X2=4',\n",
              " '2X3=6',\n",
              " '2X4=8',\n",
              " '2X5=10',\n",
              " '2X6=12',\n",
              " '2X7=14',\n",
              " '2X8=16',\n",
              " '2X9=18',\n",
              " '3X1=3',\n",
              " '3X2=6',\n",
              " '3X3=9',\n",
              " '3X4=12',\n",
              " '3X5=15',\n",
              " '3X6=18',\n",
              " '3X7=21',\n",
              " '3X8=24',\n",
              " '3X9=27',\n",
              " '4X1=4',\n",
              " '4X2=8',\n",
              " '4X3=12',\n",
              " '4X4=16',\n",
              " '4X5=20',\n",
              " '4X6=24',\n",
              " '4X7=28',\n",
              " '4X8=32',\n",
              " '4X9=36',\n",
              " '5X1=5',\n",
              " '5X2=10',\n",
              " '5X3=15',\n",
              " '5X4=20',\n",
              " '5X5=25',\n",
              " '5X6=30',\n",
              " '5X7=35',\n",
              " '5X8=40',\n",
              " '5X9=45',\n",
              " '6X1=6',\n",
              " '6X2=12',\n",
              " '6X3=18',\n",
              " '6X4=24',\n",
              " '6X5=30',\n",
              " '6X6=36',\n",
              " '6X7=42',\n",
              " '6X8=48',\n",
              " '6X9=54',\n",
              " '7X1=7',\n",
              " '7X2=14',\n",
              " '7X3=21',\n",
              " '7X4=28',\n",
              " '7X5=35',\n",
              " '7X6=42',\n",
              " '7X7=49',\n",
              " '7X8=56',\n",
              " '7X9=63',\n",
              " '8X1=8',\n",
              " '8X2=16',\n",
              " '8X3=24',\n",
              " '8X4=32',\n",
              " '8X5=40',\n",
              " '8X6=48',\n",
              " '8X7=56',\n",
              " '8X8=64',\n",
              " '8X9=72',\n",
              " '9X1=9',\n",
              " '9X2=18',\n",
              " '9X3=27',\n",
              " '9X4=36',\n",
              " '9X5=45',\n",
              " '9X6=54',\n",
              " '9X7=63',\n",
              " '9X8=72',\n",
              " '9X9=81']"
            ]
          },
          "metadata": {},
          "execution_count": 54
        }
      ]
    },
    {
      "cell_type": "code",
      "source": [
        "\n",
        "for i in range(2,10):\n",
        "  for j in range(1,10):\n",
        "    print(f'{i}X{j}={i*j}')"
      ],
      "metadata": {
        "colab": {
          "base_uri": "https://localhost:8080/"
        },
        "id": "9j3l9ODdXKGs",
        "outputId": "ac75ecc9-ba9e-4dca-de42-5ac798d9eb73"
      },
      "execution_count": 55,
      "outputs": [
        {
          "output_type": "stream",
          "name": "stdout",
          "text": [
            "2X1=2\n",
            "2X2=4\n",
            "2X3=6\n",
            "2X4=8\n",
            "2X5=10\n",
            "2X6=12\n",
            "2X7=14\n",
            "2X8=16\n",
            "2X9=18\n",
            "3X1=3\n",
            "3X2=6\n",
            "3X3=9\n",
            "3X4=12\n",
            "3X5=15\n",
            "3X6=18\n",
            "3X7=21\n",
            "3X8=24\n",
            "3X9=27\n",
            "4X1=4\n",
            "4X2=8\n",
            "4X3=12\n",
            "4X4=16\n",
            "4X5=20\n",
            "4X6=24\n",
            "4X7=28\n",
            "4X8=32\n",
            "4X9=36\n",
            "5X1=5\n",
            "5X2=10\n",
            "5X3=15\n",
            "5X4=20\n",
            "5X5=25\n",
            "5X6=30\n",
            "5X7=35\n",
            "5X8=40\n",
            "5X9=45\n",
            "6X1=6\n",
            "6X2=12\n",
            "6X3=18\n",
            "6X4=24\n",
            "6X5=30\n",
            "6X6=36\n",
            "6X7=42\n",
            "6X8=48\n",
            "6X9=54\n",
            "7X1=7\n",
            "7X2=14\n",
            "7X3=21\n",
            "7X4=28\n",
            "7X5=35\n",
            "7X6=42\n",
            "7X7=49\n",
            "7X8=56\n",
            "7X9=63\n",
            "8X1=8\n",
            "8X2=16\n",
            "8X3=24\n",
            "8X4=32\n",
            "8X5=40\n",
            "8X6=48\n",
            "8X7=56\n",
            "8X8=64\n",
            "8X9=72\n",
            "9X1=9\n",
            "9X2=18\n",
            "9X3=27\n",
            "9X4=36\n",
            "9X5=45\n",
            "9X6=54\n",
            "9X7=63\n",
            "9X8=72\n",
            "9X9=81\n"
          ]
        }
      ]
    },
    {
      "cell_type": "code",
      "source": [
        "l = [[10]*3]*5\n",
        "l"
      ],
      "metadata": {
        "colab": {
          "base_uri": "https://localhost:8080/"
        },
        "id": "tKFBvVleWjc8",
        "outputId": "61743efb-1701-4373-c131-91ffd13f5b36"
      },
      "execution_count": 57,
      "outputs": [
        {
          "output_type": "execute_result",
          "data": {
            "text/plain": [
              "[[10, 10, 10], [10, 10, 10], [10, 10, 10], [10, 10, 10], [10, 10, 10]]"
            ]
          },
          "metadata": {},
          "execution_count": 57
        }
      ]
    },
    {
      "cell_type": "code",
      "source": [
        "l[0][0]=10000\n",
        "l"
      ],
      "metadata": {
        "colab": {
          "base_uri": "https://localhost:8080/"
        },
        "id": "xhff1WA_XS3Q",
        "outputId": "5f94a72f-19b1-40fd-ff6a-b75af7086a48"
      },
      "execution_count": 58,
      "outputs": [
        {
          "output_type": "execute_result",
          "data": {
            "text/plain": [
              "[[10000, 10, 10],\n",
              " [10000, 10, 10],\n",
              " [10000, 10, 10],\n",
              " [10000, 10, 10],\n",
              " [10000, 10, 10]]"
            ]
          },
          "metadata": {},
          "execution_count": 58
        }
      ]
    },
    {
      "cell_type": "code",
      "source": [
        "l=[[i for i in range(3)]for i in range(10)]\n",
        "l\n",
        "l[0][0]\n",
        "l"
      ],
      "metadata": {
        "colab": {
          "base_uri": "https://localhost:8080/"
        },
        "id": "yV4U1o30XSuz",
        "outputId": "b27e2752-4a5c-4bee-fa21-974ed858fd92"
      },
      "execution_count": 61,
      "outputs": [
        {
          "output_type": "execute_result",
          "data": {
            "text/plain": [
              "[[0, 1, 2],\n",
              " [0, 1, 2],\n",
              " [0, 1, 2],\n",
              " [0, 1, 2],\n",
              " [0, 1, 2],\n",
              " [0, 1, 2],\n",
              " [0, 1, 2],\n",
              " [0, 1, 2],\n",
              " [0, 1, 2],\n",
              " [0, 1, 2]]"
            ]
          },
          "metadata": {},
          "execution_count": 61
        }
      ]
    },
    {
      "cell_type": "code",
      "source": [
        "for i in range(100):\n",
        "  if i %4 ==0 and i%5 ==0:\n",
        "    print(i)"
      ],
      "metadata": {
        "colab": {
          "base_uri": "https://localhost:8080/"
        },
        "id": "tB2zvzwkYERd",
        "outputId": "abd0634f-2154-4d8c-fdd4-4450741b1625"
      },
      "execution_count": 65,
      "outputs": [
        {
          "output_type": "stream",
          "name": "stdout",
          "text": [
            "0\n",
            "20\n",
            "40\n",
            "60\n",
            "80\n"
          ]
        }
      ]
    },
    {
      "cell_type": "code",
      "source": [
        "l =[i for i in range(10) if i %3 ==0 or i %5==0]\n",
        "l"
      ],
      "metadata": {
        "colab": {
          "base_uri": "https://localhost:8080/"
        },
        "id": "laYmucvUYwhD",
        "outputId": "5cccdd89-bb86-4212-a11e-ca28e86bf0ef"
      },
      "execution_count": 67,
      "outputs": [
        {
          "output_type": "execute_result",
          "data": {
            "text/plain": [
              "[0, 3, 5, 6, 9]"
            ]
          },
          "metadata": {},
          "execution_count": 67
        }
      ]
    },
    {
      "cell_type": "code",
      "source": [
        "for i in range(10):\n",
        "  if i >5:\n",
        "    break\n",
        "  print(i)\n",
        "else:\n",
        "  print('else')\n",
        "print('end')"
      ],
      "metadata": {
        "colab": {
          "base_uri": "https://localhost:8080/"
        },
        "id": "mHNiru9OZGvF",
        "outputId": "44c82410-dbc8-4579-8019-1f990944d09d"
      },
      "execution_count": 68,
      "outputs": [
        {
          "output_type": "stream",
          "name": "stdout",
          "text": [
            "0\n",
            "1\n",
            "2\n",
            "3\n",
            "4\n",
            "5\n",
            "end\n"
          ]
        }
      ]
    },
    {
      "cell_type": "code",
      "source": [
        "### while\n",
        "\n",
        "x=0\n",
        "while x<10:\n",
        "  print(x)\n",
        "  x+=1\n",
        "print('end')"
      ],
      "metadata": {
        "colab": {
          "base_uri": "https://localhost:8080/"
        },
        "id": "fkbO6olgZcs4",
        "outputId": "e4868fe8-fef4-4941-a372-49687c66cf79"
      },
      "execution_count": 71,
      "outputs": [
        {
          "output_type": "stream",
          "name": "stdout",
          "text": [
            "0\n",
            "1\n",
            "2\n",
            "3\n",
            "4\n",
            "5\n",
            "6\n",
            "7\n",
            "8\n",
            "9\n",
            "end\n"
          ]
        }
      ]
    },
    {
      "cell_type": "code",
      "source": [
        "x=0\n",
        "while True:\n",
        "  user_input=input('#')\n",
        ""
      ],
      "metadata": {
        "id": "AUIcZvMEZryc"
      },
      "execution_count": null,
      "outputs": []
    },
    {
      "cell_type": "code",
      "source": [
        "while True:\n",
        "  user_input = input('#')\n",
        "  if user_input =='exit':\n",
        "    break\n",
        "  elif user_input =='폴더생성':\n",
        "    print('폴더생성.')\n",
        "  elif user_input =='파일보기.':\n",
        "    print('파일보기.')\n",
        "  elif user_input =='파일실행.':\n",
        "    print('파일실행.')\n",
        "  else:\n",
        "    print('명령어가 없습니다.')\n",
        "\n",
        "print('end')"
      ],
      "metadata": {
        "colab": {
          "base_uri": "https://localhost:8080/"
        },
        "id": "sg-hk3XdZoSS",
        "outputId": "7f82684a-8527-43fb-c4c6-f9a1b6ac3f4a"
      },
      "execution_count": 1,
      "outputs": [
        {
          "output_type": "stream",
          "name": "stdout",
          "text": [
            "#hello\n",
            "명령어가 없습니다.\n",
            "#exit\n",
            "end\n"
          ]
        }
      ]
    },
    {
      "cell_type": "code",
      "source": [
        "x=1\n",
        "y=2\n",
        "while x<10:\n",
        "  while y<10:\n",
        "    print(f'{x}X{y}={x*y}')\n",
        "    x+=1\n",
        "    y+=1\n",
        "    x=1"
      ],
      "metadata": {
        "colab": {
          "base_uri": "https://localhost:8080/",
          "height": 385
        },
        "id": "gEnvVn6aGbS9",
        "outputId": "6f241433-a8e4-4cfd-8304-8c2ec380a79a"
      },
      "execution_count": 9,
      "outputs": [
        {
          "output_type": "stream",
          "name": "stdout",
          "text": [
            "1X2=2\n",
            "1X3=3\n",
            "1X4=4\n",
            "1X5=5\n",
            "1X6=6\n",
            "1X7=7\n",
            "1X8=8\n",
            "1X9=9\n"
          ]
        },
        {
          "output_type": "error",
          "ename": "KeyboardInterrupt",
          "evalue": "ignored",
          "traceback": [
            "\u001b[0;31m---------------------------------------------------------------------------\u001b[0m",
            "\u001b[0;31mKeyboardInterrupt\u001b[0m                         Traceback (most recent call last)",
            "\u001b[0;32m<ipython-input-9-7508e5e479bb>\u001b[0m in \u001b[0;36m<cell line: 3>\u001b[0;34m()\u001b[0m\n\u001b[1;32m      1\u001b[0m \u001b[0mx\u001b[0m\u001b[0;34m=\u001b[0m\u001b[0;36m1\u001b[0m\u001b[0;34m\u001b[0m\u001b[0;34m\u001b[0m\u001b[0m\n\u001b[1;32m      2\u001b[0m \u001b[0my\u001b[0m\u001b[0;34m=\u001b[0m\u001b[0;36m2\u001b[0m\u001b[0;34m\u001b[0m\u001b[0;34m\u001b[0m\u001b[0m\n\u001b[0;32m----> 3\u001b[0;31m \u001b[0;32mwhile\u001b[0m \u001b[0mx\u001b[0m\u001b[0;34m<\u001b[0m\u001b[0;36m10\u001b[0m\u001b[0;34m:\u001b[0m\u001b[0;34m\u001b[0m\u001b[0;34m\u001b[0m\u001b[0m\n\u001b[0m\u001b[1;32m      4\u001b[0m   \u001b[0;32mwhile\u001b[0m \u001b[0my\u001b[0m\u001b[0;34m<\u001b[0m\u001b[0;36m10\u001b[0m\u001b[0;34m:\u001b[0m\u001b[0;34m\u001b[0m\u001b[0;34m\u001b[0m\u001b[0m\n\u001b[1;32m      5\u001b[0m     \u001b[0mprint\u001b[0m\u001b[0;34m(\u001b[0m\u001b[0;34mf'{x}X{y}={x*y}'\u001b[0m\u001b[0;34m)\u001b[0m\u001b[0;34m\u001b[0m\u001b[0;34m\u001b[0m\u001b[0m\n",
            "\u001b[0;31mKeyboardInterrupt\u001b[0m: "
          ]
        }
      ]
    },
    {
      "cell_type": "markdown",
      "source": [
        "순회가능한객체!=순서가 있는객체"
      ],
      "metadata": {
        "id": "gMXR_6PPM8Lz"
      }
    }
  ]
}