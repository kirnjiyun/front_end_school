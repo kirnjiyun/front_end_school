{
  "nbformat": 4,
  "nbformat_minor": 0,
  "metadata": {
    "colab": {
      "provenance": [],
      "authorship_tag": "ABX9TyOwBwbDvnGENt9mM5mnkdNB"
    },
    "kernelspec": {
      "name": "python3",
      "display_name": "Python 3"
    },
    "language_info": {
      "name": "python"
    }
  },
  "cells": [
    {
      "cell_type": "code",
      "execution_count": null,
      "metadata": {
        "id": "rQYgomblQRQD"
      },
      "outputs": [],
      "source": [
        "#함수\n",
        "\"\"\"\n",
        "1. 코드를 재사용 할 수 있으며, 실수를 줄일 수 있다.\n",
        "2. 코드의 구조를 한 눈에 파악하기 쉽다.\n",
        "\"\"\""
      ]
    },
    {
      "cell_type": "code",
      "source": [
        "def 숫자출력():\n",
        "    print(1)\n",
        "    print(2)\n",
        "print(3)\n",
        "숫자출력()"
      ],
      "metadata": {
        "colab": {
          "base_uri": "https://localhost:8080/"
        },
        "id": "wCrJUZPrQRoq",
        "outputId": "91318647-4184-40fb-8048-bc9b26abaf84"
      },
      "execution_count": null,
      "outputs": [
        {
          "output_type": "stream",
          "name": "stdout",
          "text": [
            "3\n",
            "1\n",
            "2\n"
          ]
        }
      ]
    },
    {
      "cell_type": "code",
      "source": [
        "def 숫자출력():\n",
        "    print(1)\n",
        "    print(2)\n",
        "    print(3)\n",
        "숫자출력()"
      ],
      "metadata": {
        "colab": {
          "base_uri": "https://localhost:8080/"
        },
        "id": "5F7moXWzQRsP",
        "outputId": "d9c794c7-1f96-435d-8966-1a5a46907dda"
      },
      "execution_count": null,
      "outputs": [
        {
          "output_type": "stream",
          "name": "stdout",
          "text": [
            "1\n",
            "2\n",
            "3\n"
          ]
        }
      ]
    },
    {
      "cell_type": "code",
      "source": [
        "def 원의넓이(반지름):\n",
        "  result =(반지름**2)*3.14\n",
        "  return result\n",
        "원의넓이(10)"
      ],
      "metadata": {
        "colab": {
          "base_uri": "https://localhost:8080/"
        },
        "id": "Jk4aBH_MQRu6",
        "outputId": "2c2870d1-2a14-4c27-ccd6-76d42f633c60"
      },
      "execution_count": null,
      "outputs": [
        {
          "output_type": "execute_result",
          "data": {
            "text/plain": [
              "314.0"
            ]
          },
          "metadata": {},
          "execution_count": 15
        }
      ]
    },
    {
      "cell_type": "code",
      "source": [
        "\"\"\"\n",
        "def: 함수를 선언하는 키워드\n",
        "원의 넓이: 함수의 이름\n",
        "return: 함수의 종료, 결과의 반환\n",
        "반지름: 파라미터\n",
        "10:아규먼트\n",
        "원의넓이(10):함수의 호출\n",
        "\"\"\""
      ],
      "metadata": {
        "id": "14IBwRfQQRxP"
      },
      "execution_count": null,
      "outputs": []
    },
    {
      "cell_type": "code",
      "source": [],
      "metadata": {
        "id": "mrlav7iJQRz6"
      },
      "execution_count": null,
      "outputs": []
    },
    {
      "cell_type": "code",
      "source": [],
      "metadata": {
        "id": "A1yACGjMQR2P"
      },
      "execution_count": null,
      "outputs": []
    },
    {
      "cell_type": "code",
      "source": [],
      "metadata": {
        "id": "5Sszu-rNQR4j"
      },
      "execution_count": null,
      "outputs": []
    }
  ]
}